{
 "cells": [
  {
   "cell_type": "code",
   "execution_count": 60,
   "metadata": {},
   "outputs": [],
   "source": [
    "import numpy as np\n",
    "import pandas as pd\n",
    "import matplotlib.pyplot as plt\n",
    "import yfinance\n",
    "from os.path import exists\n",
    "import sys\n",
    "%matplotlib inline"
   ]
  },
  {
   "cell_type": "code",
   "execution_count": 67,
   "metadata": {},
   "outputs": [],
   "source": [
    "# Quick helper function skeletons\n",
    "class RLOnEquities:\n",
    "    def __init__(self, path):\n",
    "        self.path = path\n",
    "    def get_stock_data(self):\n",
    "        print(\"Enter your preferred equity\")\n",
    "        ticker = input()\n",
    "        file = self.path + '/' + ticker + '.US.txt'\n",
    "        #check if file exists \n",
    "        if(not exists(file)):\n",
    "            print(\"Data for this stock does not exist... yet!\")\n",
    "            sys.exit()\n",
    "        #read file\n",
    "        self.data = pd.read_csv(file)\n",
    "        if not self.data.empty:\n",
    "            print(\"Dataframe loaded succesfully.\")\n",
    "        print(self.data)\n",
    "\n",
    "    # Following methods are the exploratory data analysis for the ticker data\n",
    "    def clean_stock_data(self):\n",
    "        # Drop the unnecessary column\n",
    "        if 'OpenInt' in self.data:\n",
    "            self.data = self.data.drop(['OpenInt'], axis = 1)\n",
    "            \n",
    "        # Print the info \n",
    "        self.data.info()\n",
    "\n",
    "\n",
    "    def plot_stock_data():\n",
    "        # \n",
    "        pass\n",
    "\n",
    "    def print_results():\n",
    "        pass\n",
    "\n",
    "\n"
   ]
  },
  {
   "cell_type": "code",
   "execution_count": 68,
   "metadata": {},
   "outputs": [
    {
     "name": "stdout",
     "output_type": "stream",
     "text": [
      "Enter your preferred equity\n",
      "Dataframe loaded succesfully.\n",
      "            Date    Open    High     Low   Close   Volume  OpenInt\n",
      "0     2005-02-25   9.608  10.057   9.564  10.038  2468498        0\n",
      "1     2005-02-28   9.924  10.083   9.915   9.915  2117042        0\n",
      "2     2005-03-01  10.004  10.223   9.987  10.100  2286241        0\n",
      "3     2005-03-02  10.038  10.524   9.996  10.417  3900793        0\n",
      "4     2005-03-03  10.472  10.549  10.294  10.498  3542406        0\n",
      "...          ...     ...     ...     ...     ...      ...      ...\n",
      "3196  2017-11-06  86.670  88.180  86.530  87.850  3083621        0\n",
      "3197  2017-11-07  87.850  87.920  85.960  86.090  3637027        0\n",
      "3198  2017-11-08  86.260  87.420  85.530  87.120  2777692        0\n",
      "3199  2017-11-09  86.500  88.240  86.050  87.630  2844755        0\n",
      "3200  2017-11-10  88.250  89.370  87.600  88.920  3226337        0\n",
      "\n",
      "[3201 rows x 7 columns]\n",
      "<class 'pandas.core.frame.DataFrame'>\n",
      "RangeIndex: 3201 entries, 0 to 3200\n",
      "Data columns (total 6 columns):\n",
      " #   Column  Non-Null Count  Dtype  \n",
      "---  ------  --------------  -----  \n",
      " 0   Date    3201 non-null   object \n",
      " 1   Open    3201 non-null   float64\n",
      " 2   High    3201 non-null   float64\n",
      " 3   Low     3201 non-null   float64\n",
      " 4   Close   3201 non-null   float64\n",
      " 5   Volume  3201 non-null   int64  \n",
      "dtypes: float64(4), int64(1), object(1)\n",
      "memory usage: 150.2+ KB\n",
      "None\n"
     ]
    }
   ],
   "source": [
    "object = RLOnEquities('data/stocks')\n",
    "\n",
    "object.get_stock_data()\n",
    "print(object.clean_stock_data())"
   ]
  },
  {
   "cell_type": "code",
   "execution_count": null,
   "metadata": {},
   "outputs": [],
   "source": []
  },
  {
   "cell_type": "code",
   "execution_count": null,
   "metadata": {},
   "outputs": [],
   "source": []
  },
  {
   "cell_type": "code",
   "execution_count": null,
   "metadata": {},
   "outputs": [],
   "source": []
  },
  {
   "cell_type": "code",
   "execution_count": null,
   "metadata": {},
   "outputs": [],
   "source": []
  }
 ],
 "metadata": {
  "interpreter": {
   "hash": "aee8b7b246df8f9039afb4144a1f6fd8d2ca17a180786b69acc140d282b71a49"
  },
  "kernelspec": {
   "display_name": "Python 3.8.2 64-bit",
   "name": "python3"
  },
  "language_info": {
   "codemirror_mode": {
    "name": "ipython",
    "version": 3
   },
   "file_extension": ".py",
   "mimetype": "text/x-python",
   "name": "python",
   "nbconvert_exporter": "python",
   "pygments_lexer": "ipython3",
   "version": "3.8.2"
  },
  "orig_nbformat": 4
 },
 "nbformat": 4,
 "nbformat_minor": 2
}
